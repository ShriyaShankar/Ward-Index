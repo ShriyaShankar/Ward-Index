{
 "cells": [
  {
   "cell_type": "code",
   "execution_count": 1,
   "metadata": {},
   "outputs": [],
   "source": [
    "import pandas as pd\n",
    "import numpy as np\n",
    "import seaborn as sns\n",
    "import matplotlib.pyplot as plt\n",
    "import statistics \n",
    "import os\n",
    "\n",
    "filepath = os.path.join(os.getcwd(),'CSV_Files','ninja_reports.xls')\n",
    "df = pd.read_excel('ninja_reports2.xls',sheet_name='ninja_reports')"
   ]
  },
  {
   "cell_type": "code",
   "execution_count": 2,
   "metadata": {},
   "outputs": [
    {
     "name": "stdout",
     "output_type": "stream",
     "text": [
      "[6, 1, 2, 5, 7, 4, 9]\n"
     ]
    }
   ],
   "source": [
    "category_names = list(df.category.unique())\n",
    "print(category_names)"
   ]
  },
  {
   "cell_type": "code",
   "execution_count": 3,
   "metadata": {},
   "outputs": [],
   "source": [
    "title_names = list(df.title.unique())"
   ]
  },
  {
   "cell_type": "code",
   "execution_count": 4,
   "metadata": {},
   "outputs": [
    {
     "name": "stdout",
     "output_type": "stream",
     "text": [
      "['Garbage', 'Air Pollution', 'Maintenance/Repair Of Streetlights', 'Parking On Footpath', 'Traffic Jams/Congestion Or Bottlenecks', 'Garbage Dumping In Vacant Lot/Land', 'Wrong Parking', 'Removal Of Illegal Posters And Hoardings', 'Dangling Or Hanging Of OFCs/Cables/Wires', 'Implementation Of Waste Segregation/Garbage', 'Clearance Of Garbage Dump Or Black Spot', 'Provide Sewage lines', 'Clearing Of Roadside Dustbin', 'Maintenance And Repair Of Sewage Lines', 'Maintenance And Repair Of Manholes', 'Regular Supply Of Electricity', 'Collection Of Door-to-door Garbage', 'Fixing/Reparing Potholes', 'Wrong parking', 'Maintenance Of Lake Surrounding', 'Stop Water Leakage', 'Flooding/Waterlogging Of Roads And Footpaths', 'Single Use plastic generator', 'BPAC – Black Spot']\n",
      "24\n"
     ]
    }
   ],
   "source": [
    "print(title_names)\n",
    "print(len(title_names))"
   ]
  },
  {
   "cell_type": "code",
   "execution_count": 7,
   "metadata": {},
   "outputs": [
    {
     "name": "stdout",
     "output_type": "stream",
     "text": [
      "0                                            Garbage\n",
      "1                                      Air Pollution\n",
      "2                                      Air Pollution\n",
      "3                                            Garbage\n",
      "4                                      Air Pollution\n",
      "5                                            Garbage\n",
      "6                 Maintenance/Repair Of Streetlights\n",
      "7                                Parking On Footpath\n",
      "8                                Parking On Footpath\n",
      "9             Traffic Jams/Congestion Or Bottlenecks\n",
      "10            Traffic Jams/Congestion Or Bottlenecks\n",
      "11            Traffic Jams/Congestion Or Bottlenecks\n",
      "12                Garbage Dumping In Vacant Lot/Land\n",
      "13            Traffic Jams/Congestion Or Bottlenecks\n",
      "14                                     Wrong Parking\n",
      "15            Traffic Jams/Congestion Or Bottlenecks\n",
      "16                                           Garbage\n",
      "17                Garbage Dumping In Vacant Lot/Land\n",
      "18          Removal Of Illegal Posters And Hoardings\n",
      "19          Dangling Or Hanging Of OFCs/Cables/Wires\n",
      "20                                     Wrong Parking\n",
      "21       Implementation Of Waste Segregation/Garbage\n",
      "22       Implementation Of Waste Segregation/Garbage\n",
      "23           Clearance Of Garbage Dump Or Black Spot\n",
      "24                Garbage Dumping In Vacant Lot/Land\n",
      "25       Implementation Of Waste Segregation/Garbage\n",
      "26                                     Wrong Parking\n",
      "27                              Provide Sewage lines\n",
      "28                Garbage Dumping In Vacant Lot/Land\n",
      "29            Traffic Jams/Congestion Or Bottlenecks\n",
      "                            ...                     \n",
      "10693        Clearance Of Garbage Dump Or Black Spot\n",
      "10694             Maintenance/Repair Of Streetlights\n",
      "10695                                  Wrong parking\n",
      "10696             Garbage Dumping In Vacant Lot/Land\n",
      "10697        Clearance Of Garbage Dump Or Black Spot\n",
      "10698             Garbage Dumping In Vacant Lot/Land\n",
      "10699                   Clearing Of Roadside Dustbin\n",
      "10700             Garbage Dumping In Vacant Lot/Land\n",
      "10701        Clearance Of Garbage Dump Or Black Spot\n",
      "10702             Garbage Dumping In Vacant Lot/Land\n",
      "10703                                  Wrong parking\n",
      "10704       Dangling Or Hanging Of OFCs/Cables/Wires\n",
      "10705             Garbage Dumping In Vacant Lot/Land\n",
      "10706             Garbage Dumping In Vacant Lot/Land\n",
      "10707        Clearance Of Garbage Dump Or Black Spot\n",
      "10708             Garbage Dumping In Vacant Lot/Land\n",
      "10709        Clearance Of Garbage Dump Or Black Spot\n",
      "10710                   Clearing Of Roadside Dustbin\n",
      "10711                   Single Use plastic generator\n",
      "10712                   Single Use plastic generator\n",
      "10713                   Single Use plastic generator\n",
      "10714                   Single Use plastic generator\n",
      "10715                   Single Use plastic generator\n",
      "10716             Maintenance/Repair Of Streetlights\n",
      "10717                                  Wrong parking\n",
      "10718             Garbage Dumping In Vacant Lot/Land\n",
      "10719        Clearance Of Garbage Dump Or Black Spot\n",
      "10720                   Single Use plastic generator\n",
      "10721                   Clearing Of Roadside Dustbin\n",
      "10722             Garbage Dumping In Vacant Lot/Land\n",
      "Name: title, Length: 10723, dtype: object 0         1\n",
      "1         2\n",
      "2         2\n",
      "3         1\n",
      "4         2\n",
      "5         1\n",
      "6         3\n",
      "7         3\n",
      "8         3\n",
      "9         6\n",
      "10        6\n",
      "11        6\n",
      "12        1\n",
      "13        6\n",
      "14        3\n",
      "15        6\n",
      "16        1\n",
      "17        1\n",
      "18        3\n",
      "19        3\n",
      "20        3\n",
      "21        1\n",
      "22        1\n",
      "23        1\n",
      "24        1\n",
      "25        1\n",
      "26        3\n",
      "27        7\n",
      "28        1\n",
      "29        6\n",
      "         ..\n",
      "10693     1\n",
      "10694     3\n",
      "10695     3\n",
      "10696     1\n",
      "10697     1\n",
      "10698     1\n",
      "10699     1\n",
      "10700     1\n",
      "10701     1\n",
      "10702     1\n",
      "10703     3\n",
      "10704     3\n",
      "10705     1\n",
      "10706     1\n",
      "10707     1\n",
      "10708     1\n",
      "10709     1\n",
      "10710     1\n",
      "10711    10\n",
      "10712    10\n",
      "10713    10\n",
      "10714    10\n",
      "10715    10\n",
      "10716     3\n",
      "10717     3\n",
      "10718     1\n",
      "10719     1\n",
      "10720    10\n",
      "10721     1\n",
      "10722     1\n",
      "Name: new_title_id, Length: 10723, dtype: int64\n"
     ]
    }
   ],
   "source": [
    "new_title_id = []\n",
    "i = 0\n",
    "for name in df.title:\n",
    "    if name in ['Garbage', 'Garbage Dumping In Vacant Lot/Land', 'Implementation Of Waste Segregation/Garbage', 'Clearance Of Garbage Dump Or Black Spot', 'Clearing Of Roadside Dustbin', 'Collection Of Door-to-door Garbage', 'BPAC – Black Spot']:\n",
    "        new_title_id.insert(i, 1)\n",
    "    elif name in ['Air Pollution']:\n",
    "        new_title_id.insert(i, 2)\n",
    "    elif name in ['Maintenance/Repair Of Streetlights', 'Dangling Or Hanging Of OFCs/Cables/Wires', 'Wrong Parking', 'Wrong parking', 'Parking On Footpath', 'Removal Of Illegal Posters And Hoardings']:\n",
    "        new_title_id.insert(i, 3)\n",
    "    elif name in ['Regular Supply Of Electricity']:\n",
    "        new_title_id.insert(i, 4)\n",
    "    elif name in ['Maintenance And Repair Of Manholes', 'Fixing/Reparing Potholes']:\n",
    "        new_title_id.insert(i, 5)\n",
    "    elif name in ['Traffic Jams/Congestion Or Bottlenecks']:\n",
    "        new_title_id.insert(i, 6)\n",
    "    elif name in ['Provide Sewage lines', 'Maintenance And Repair Of Sewage Lines']:\n",
    "        new_title_id.insert(i, 7)\n",
    "    elif name in ['Maintenance Of Lake Surrounding']:\n",
    "        new_title_id.insert(i, 8)\n",
    "    elif name in ['Stop Water Leakage', 'Flooding/Waterlogging Of Roads And Footpaths']:\n",
    "        new_title_id.insert(i, 9)\n",
    "    elif name in ['Single Use plastic generator']:\n",
    "        new_title_id.insert(i, 10)\n",
    "    else:\n",
    "        new_title_id.insert(i, 0)\n",
    "    i = i+1\n",
    "df['new_title_id'] = new_title_id\n",
    "df\n",
    "print(df['title'], df['new_title_id'])"
   ]
  },
  {
   "cell_type": "code",
   "execution_count": null,
   "metadata": {},
   "outputs": [],
   "source": []
  },
  {
   "cell_type": "code",
   "execution_count": 10,
   "metadata": {},
   "outputs": [
    {
     "name": "stdout",
     "output_type": "stream",
     "text": [
      "{1: 5869, 2: 333, 3: 1466, 6: 8, 7: 451, 5: 1257, 4: 4, 8: 2, 9: 1075, 10: 258}\n"
     ]
    },
    {
     "data": {
      "text/plain": [
       "<BarContainer object of 10 artists>"
      ]
     },
     "execution_count": 10,
     "metadata": {},
     "output_type": "execute_result"
    },
    {
     "data": {
      "image/png": "[encoded data removed]",
      "text/plain": [
       "<Figure size 504x504 with 1 Axes>"
      ]
     },
     "metadata": {
      "needs_background": "light"
     },
     "output_type": "display_data"
    }
   ],
   "source": [
    "new_cat = {}\n",
    "for i in new_title_id:\n",
    "    if i not in new_cat:\n",
    "        new_cat[i] = 1\n",
    "    else:\n",
    "        new_cat[i]+=1\n",
    "plt.figure(figsize = (7,7))\n",
    "plt.title(\"Categories\")\n",
    "#plt.grid(True)\n",
    "print(new_cat)\n",
    "plt.bar(new_cat.keys(), new_cat.values(), color = ['green','red'], tick_label = df.new_title_id.unique())"
   ]
  },
  {
   "cell_type": "code",
   "execution_count": 3,
   "metadata": {},
   "outputs": [],
   "source": [
    "city_number = []\n",
    "blor = [\"chennai\"] #['bangalore', 'Bangalore', 'bengaluru', 'Bengaluru', 'BANGALORE', 'BENGALURU']\n",
    "i = 0\n",
    "for city in df.location:\n",
    "    #print(str(city))\n",
    "    if \"chennai\" in str(city).lower():\n",
    "        city_number.insert(i, 2)\n",
    "    elif \"hosur\" in str(city).lower():\n",
    "        city_number.insert(i,3)\n",
    "    else:\n",
    "        city_number.insert(i,1)"
   ]
  },
  {
   "cell_type": "code",
   "execution_count": null,
   "metadata": {},
   "outputs": [],
   "source": []
  }
 ],
 "metadata": {
  "kernelspec": {
   "display_name": "Python 3",
   "language": "python",
   "name": "python3"
  },
  "language_info": {
   "codemirror_mode": {
    "name": "ipython",
    "version": 3
   },
   "file_extension": ".py",
   "mimetype": "text/x-python",
   "name": "python",
   "nbconvert_exporter": "python",
   "pygments_lexer": "ipython3",
   "version": "3.7.3"
  }
 },
 "nbformat": 4,
 "nbformat_minor": 2
}
