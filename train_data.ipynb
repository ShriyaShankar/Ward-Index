{
 "cells": [
  {
   "cell_type": "code",
   "execution_count": 4,
   "metadata": {},
   "outputs": [
    {
     "name": "stderr",
     "output_type": "stream",
     "text": [
      "[nltk_data] Downloading package stopwords to /home/shriya/nltk_data...\n",
      "[nltk_data]   Package stopwords is already up-to-date!\n"
     ]
    }
   ],
   "source": [
    "import warnings\n",
    "from wordcloud import WordCloud, STOPWORDS, ImageColorGenerator\n",
    "import random\n",
    "import nltk\n",
    "import pandas as pd\n",
    "from nltk.classify.scikitlearn import SklearnClassifier\n",
    "from textblob import TextBlob,Word,Blobber\n",
    "import csv\n",
    "\n",
    "nltk.download('stopwords')\n",
    "warnings.filterwarnings('ignore')\n",
    "df = pd.read_excel('ninja_reports2.xls',sheet_name='ninja_reports')\n",
    "\n",
    "def create_train_dataset():\n",
    "    f = 'train.csv'\n",
    "    with open(f, 'w+') as file:\n",
    "        writer = csv.writer(file)\n",
    "        for i in range (1, 10000):\n",
    "            if i % 2 == 0 or i % 5 == 0:\n",
    "                writer.writerow([df.description[i], 'neg'])\n",
    "        writer = csv.writer(file)\n",
    "        writer.writerow(['this place has a beautiful atmosphere.', 'pos'])\n",
    "        writer.writerow(['my area is absolutely clean now.', 'pos'])\n",
    "        writer.writerow(['the children play happily in the park after clearing the garbage dump', 'pos'])\n",
    "        writer.writerow(['waste is segregated at source in my complex ', 'pos'])\n",
    "        writer.writerow(['bbmp cleaned out the garbage dump today', 'pos'])\n",
    "        writer.writerow(['the pipes do not leak anymore in our colony.', 'pos'])\n",
    "        writer.writerow(['this area has healthy air.', 'pos'])\n",
    "#create_train_dataset()\n",
    "# train.csv has the text to be trained\n",
    "# training_set.txt has the trained text as .txt file\n",
    "# trained_dataset.csv has the trained text as .csv file\n",
    "# desc_with_sentiment[] has trained text as list\n",
    "def creating_training_model():\n",
    "    create_train_dataset()\n",
    "    desc_with_sentiment = []\n",
    "    polarity = 0\n",
    "    f= 'train.csv'\n",
    "    with open('trained_dataset.csv', 'w+',newline='')as file:\n",
    "        with open('training_set.txt', 'a+') as training_set:\n",
    "            writer = csv.writer(file)\n",
    "            writer.writerow(['complaint','polarity'])\n",
    "            with open(f,'r') as train:\n",
    "                    rows = csv.reader(train)\n",
    "                    for row in rows:\n",
    "                        sentence = row[0]\n",
    "                        blob = TextBlob(sentence, classifier=train)\n",
    "                        if blob.sentiment.polarity > 0:\n",
    "                            polarity = (2*blob.sentiment.polarity)-1\n",
    "                            training_set.write(sentence + ',' + str(polarity) + '\\n')\n",
    "                        else:\n",
    "                            polarity = 2*blob.sentiment.polarity\n",
    "                            training_set.write(sentence + ',' + str(polarity) + '\\n')\n",
    "                        #with open('trained_dataset.csv', 'a+', newline='') as file:\n",
    "                        writer = csv.writer(file)\n",
    "                        writer.writerow([sentence, polarity])\n",
    "                        desc_with_sentiment.append((sentence, blob.sentiment.polarity))\n",
    "    #file.close()\n",
    "\n",
    "creating_training_model()"
   ]
  },
  {
   "cell_type": "code",
   "execution_count": null,
   "metadata": {},
   "outputs": [],
   "source": []
  }
 ],
 "metadata": {
  "kernelspec": {
   "display_name": "Python 3",
   "language": "python",
   "name": "python3"
  },
  "language_info": {
   "codemirror_mode": {
    "name": "ipython",
    "version": 3
   },
   "file_extension": ".py",
   "mimetype": "text/x-python",
   "name": "python",
   "nbconvert_exporter": "python",
   "pygments_lexer": "ipython3",
   "version": "3.7.3"
  }
 },
 "nbformat": 4,
 "nbformat_minor": 2
}
