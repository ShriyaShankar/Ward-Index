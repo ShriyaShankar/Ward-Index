{
 "cells": [
  {
   "cell_type": "code",
   "execution_count": 2,
   "metadata": {},
   "outputs": [],
   "source": [
    "import pandas as pd\n",
    "import numpy as np\n",
    "import seaborn as sns\n",
    "import matplotlib.pyplot as plt\n",
    "import statistics \n",
    "import os\n",
    "\n",
    "filepath = os.path.join(os.getcwd(),'CSV_Files','ninja_reports.xls')\n",
    "df = pd.read_excel('ninja_reports2.xls',sheet_name='ninja_reports')"
   ]
  },
  {
   "cell_type": "code",
   "execution_count": 4,
   "metadata": {},
   "outputs": [
    {
     "name": "stdout",
     "output_type": "stream",
     "text": [
      "[6, 1, 2, 5, 7, 4, 9]\n"
     ]
    }
   ],
   "source": [
    "category_names = list(df.category.unique())\n",
    "print(category_names)"
   ]
  },
  {
   "cell_type": "code",
   "execution_count": 5,
   "metadata": {},
   "outputs": [],
   "source": [
    "title_names = list(df.title.unique())"
   ]
  },
  {
   "cell_type": "code",
   "execution_count": 6,
   "metadata": {},
   "outputs": [
    {
     "name": "stdout",
     "output_type": "stream",
     "text": [
      "['Garbage', 'Air Pollution', 'Maintenance/Repair Of Streetlights', 'Parking On Footpath', 'Traffic Jams/Congestion Or Bottlenecks', 'Garbage Dumping In Vacant Lot/Land', 'Wrong Parking', 'Removal Of Illegal Posters And Hoardings', 'Dangling Or Hanging Of OFCs/Cables/Wires', 'Implementation Of Waste Segregation/Garbage', 'Clearance Of Garbage Dump Or Black Spot', 'Provide Sewage lines', 'Clearing Of Roadside Dustbin', 'Maintenance And Repair Of Sewage Lines', 'Maintenance And Repair Of Manholes', 'Regular Supply Of Electricity', 'Collection Of Door-to-door Garbage', 'Fixing/Reparing Potholes', 'Wrong parking', 'Maintenance Of Lake Surrounding', 'Stop Water Leakage', 'Flooding/Waterlogging Of Roads And Footpaths', 'Single Use plastic generator', 'BPAC – Black Spot']\n",
      "24\n"
     ]
    }
   ],
   "source": [
    "print(title_names)\n",
    "print(len(title_names))"
   ]
  },
  {
   "cell_type": "code",
   "execution_count": 7,
   "metadata": {},
   "outputs": [
    {
     "name": "stdout",
     "output_type": "stream",
     "text": [
      "0                                        Garbage\n",
      "1                                  Air Pollution\n",
      "2                                  Air Pollution\n",
      "3                                        Garbage\n",
      "4                                  Air Pollution\n",
      "                          ...                   \n",
      "10718         Garbage Dumping In Vacant Lot/Land\n",
      "10719    Clearance Of Garbage Dump Or Black Spot\n",
      "10720               Single Use plastic generator\n",
      "10721               Clearing Of Roadside Dustbin\n",
      "10722         Garbage Dumping In Vacant Lot/Land\n",
      "Name: title, Length: 10723, dtype: object\n",
      "0         1\n",
      "1         2\n",
      "2         2\n",
      "3         1\n",
      "4         2\n",
      "         ..\n",
      "10718     1\n",
      "10719     1\n",
      "10720    10\n",
      "10721     1\n",
      "10722     1\n",
      "Name: new_title_id, Length: 10723, dtype: int64\n"
     ]
    }
   ],
   "source": [
    "new_title_id = []\n",
    "i = 0\n",
    "for name in df.title:\n",
    "    if name in ['Garbage', 'Garbage Dumping In Vacant Lot/Land', 'Implementation Of Waste Segregation/Garbage', 'Clearance Of Garbage Dump Or Black Spot', 'Clearing Of Roadside Dustbin', 'Collection Of Door-to-door Garbage', 'BPAC – Black Spot']:\n",
    "        new_title_id.insert(i, 1)\n",
    "    elif name in ['Air Pollution']:\n",
    "        new_title_id.insert(i, 2)\n",
    "    elif name in ['Maintenance/Repair Of Streetlights', 'Dangling Or Hanging Of OFCs/Cables/Wires', 'Wrong Parking', 'Wrong parking', 'Parking On Footpath', 'Removal Of Illegal Posters And Hoardings']:\n",
    "        new_title_id.insert(i, 3)\n",
    "    elif name in ['Regular Supply Of Electricity']:\n",
    "        new_title_id.insert(i, 4)\n",
    "    elif name in ['Maintenance And Repair Of Manholes', 'Fixing/Reparing Potholes']:\n",
    "        new_title_id.insert(i, 5)\n",
    "    elif name in ['Traffic Jams/Congestion Or Bottlenecks']:\n",
    "        new_title_id.insert(i, 6)\n",
    "    elif name in ['Provide Sewage lines', 'Maintenance And Repair Of Sewage Lines']:\n",
    "        new_title_id.insert(i, 7)\n",
    "    elif name in ['Maintenance Of Lake Surrounding']:\n",
    "        new_title_id.insert(i, 8)\n",
    "    elif name in ['Stop Water Leakage', 'Flooding/Waterlogging Of Roads And Footpaths']:\n",
    "        new_title_id.insert(i, 9)\n",
    "    elif name in ['Single Use plastic generator']:\n",
    "        new_title_id.insert(i, 10)\n",
    "    else:\n",
    "        new_title_id.insert(i, 0)\n",
    "    i = i+1\n",
    "df['new_title_id'] = new_title_id\n",
    "print(df['title'], df['new_title_id'], sep = '\\n')"
   ]
  },
  {
   "cell_type": "code",
   "execution_count": null,
   "metadata": {},
   "outputs": [],
   "source": []
  },
  {
   "cell_type": "code",
   "execution_count": 44,
   "metadata": {},
   "outputs": [
    {
     "data": {
      "text/plain": [
       "<BarContainer object of 10 artists>"
      ]
     },
     "execution_count": 44,
     "metadata": {},
     "output_type": "execute_result"
    },
    {
     "data": {
      "image/png": "[encoded data removed]",
      "text/plain": [
       "<Figure size 504x504 with 1 Axes>"
      ]
     },
     "metadata": {
      "needs_background": "light"
     },
     "output_type": "display_data"
    }
   ],
   "source": [
    "new_cat = {}\n",
    "for i in new_title_id:\n",
    "    if i not in new_cat:\n",
    "        new_cat[i] = 1\n",
    "    else:\n",
    "        new_cat[i]+=1\n",
    "plt.figure(figsize = (7,7))\n",
    "plt.title(\"Categories\")\n",
    "plt.bar(new_cat.keys(), new_cat.values(), color = ['green','red'], tick_label = df.new_title_id.unique())"
   ]
  },
  {
   "cell_type": "code",
   "execution_count": 3,
   "metadata": {},
   "outputs": [],
   "source": [
    "city_number = []\n",
    "blor = [\"chennai\"] #['bangalore', 'Bangalore', 'bengaluru', 'Bengaluru', 'BANGALORE', 'BENGALURU']\n",
    "i = 0\n",
    "for city in df.location:\n",
    "    #print(str(city))\n",
    "    if \"chennai\" in str(city).lower():\n",
    "        city_number.insert(i, 2)\n",
    "    elif \"hosur\" in str(city).lower():\n",
    "        city_number.insert(i,3)\n",
    "    else:\n",
    "        city_number.insert(i,1)"
   ]
  },
  {
   "cell_type": "code",
   "execution_count": null,
   "metadata": {},
   "outputs": [],
   "source": []
  }
 ],
 "metadata": {
  "kernelspec": {
   "display_name": "Python 3",
   "language": "python",
   "name": "python3"
  },
  "language_info": {
   "codemirror_mode": {
    "name": "ipython",
    "version": 3
   },
   "file_extension": ".py",
   "mimetype": "text/x-python",
   "name": "python",
   "nbconvert_exporter": "python",
   "pygments_lexer": "ipython3",
   "version": "3.7.3"
  }
 },
 "nbformat": 4,
 "nbformat_minor": 2
}
