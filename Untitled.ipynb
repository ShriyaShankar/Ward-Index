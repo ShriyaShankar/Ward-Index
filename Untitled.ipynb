{
 "cells": [
  {
   "cell_type": "code",
   "execution_count": 4,
   "metadata": {},
   "outputs": [
    {
     "name": "stdout",
     "output_type": "stream",
     "text": [
      "[1.0, 36.0, 0.0, 2.0, 72.0, 123.0, nan, 305.0, 6.0, 4.0, 39.0, 277.0, 132.0, 53.0]\n"
     ]
    },
    {
     "data": {
      "text/plain": [
       "<Figure size 560x480 with 2 Axes>"
      ]
     },
     "metadata": {},
     "output_type": "display_data"
    },
    {
     "name": "stdout",
     "output_type": "stream",
     "text": [
      "Noise:  6869\n",
      "Count :  730\n",
      "['Garbage', 'Air Pollution', 'Maintenance/Repair Of Streetlights', 'Parking On Footpath', 'Traffic Jams/Congestion Or Bottlenecks', 'Garbage Dumping In Vacant Lot/Land', 'Wrong Parking', 'Removal Of Illegal Posters And Hoardings', 'Dangling Or Hanging Of OFCs/Cables/Wires', 'Implementation Of Waste Segregation/Garbage', 'Clearance Of Garbage Dump Or Black Spot', 'Provide Sewage lines', 'Clearing Of Roadside Dustbin', 'Maintenance And Repair Of Sewage Lines', 'Maintenance And Repair Of Manholes', 'Regular Supply Of Electricity', 'Collection Of Door-to-door Garbage', 'Fixing/Reparing Potholes', 'Wrong parking', 'Maintenance Of Lake Surrounding', 'Stop Water Leakage', 'Flooding/Waterlogging Of Roads And Footpaths', 'Single Use plastic generator', 'BPAC – Black Spot'] 24\n",
      "{6: 6129, 1: 333, 2: 1178, 5: 662, 7: 1548, 4: 193, 9: 680}\n"
     ]
    },
    {
     "ename": "NameError",
     "evalue": "name 'd' is not defined",
     "output_type": "error",
     "traceback": [
      "\u001b[1;31m---------------------------------------------------------------------------\u001b[0m",
      "\u001b[1;31mNameError\u001b[0m                                 Traceback (most recent call last)",
      "\u001b[1;32m<ipython-input-4-8bbd70bfad9e>\u001b[0m in \u001b[0;36m<module>\u001b[1;34m\u001b[0m\n\u001b[0;32m     64\u001b[0m \u001b[0mchennai\u001b[0m \u001b[1;33m=\u001b[0m \u001b[1;33m[\u001b[0m\u001b[0mstr\u001b[0m\u001b[1;33m(\u001b[0m\u001b[0mi\u001b[0m\u001b[1;33m)\u001b[0m \u001b[1;32mfor\u001b[0m \u001b[0mi\u001b[0m \u001b[1;32min\u001b[0m \u001b[0mdf\u001b[0m\u001b[1;33m.\u001b[0m\u001b[0mlocation\u001b[0m \u001b[1;32mif\u001b[0m \u001b[1;34m'Chennai'\u001b[0m \u001b[1;32min\u001b[0m \u001b[0mstr\u001b[0m\u001b[1;33m(\u001b[0m\u001b[0mi\u001b[0m\u001b[1;33m)\u001b[0m\u001b[1;33m]\u001b[0m\u001b[1;33m\u001b[0m\u001b[1;33m\u001b[0m\u001b[0m\n\u001b[0;32m     65\u001b[0m \u001b[1;32mfor\u001b[0m \u001b[0mi\u001b[0m \u001b[1;32min\u001b[0m \u001b[0mchennai\u001b[0m\u001b[1;33m:\u001b[0m\u001b[1;33m\u001b[0m\u001b[1;33m\u001b[0m\u001b[0m\n\u001b[1;32m---> 66\u001b[1;33m     \u001b[0mdf\u001b[0m\u001b[1;33m.\u001b[0m\u001b[0mdrop\u001b[0m\u001b[1;33m(\u001b[0m\u001b[0md\u001b[0m\u001b[1;33m)\u001b[0m\u001b[1;33m\u001b[0m\u001b[1;33m\u001b[0m\u001b[0m\n\u001b[0m\u001b[0;32m     67\u001b[0m \u001b[1;32mfor\u001b[0m \u001b[0mi\u001b[0m \u001b[1;32min\u001b[0m \u001b[0mdf\u001b[0m\u001b[1;33m.\u001b[0m\u001b[0mcategory\u001b[0m\u001b[1;33m:\u001b[0m\u001b[1;33m\u001b[0m\u001b[1;33m\u001b[0m\u001b[0m\n\u001b[0;32m     68\u001b[0m     \u001b[0mcat\u001b[0m\u001b[1;33m[\u001b[0m\u001b[0mi\u001b[0m\u001b[1;33m]\u001b[0m \u001b[1;33m+=\u001b[0m\u001b[1;36m1\u001b[0m\u001b[1;33m\u001b[0m\u001b[1;33m\u001b[0m\u001b[0m\n",
      "\u001b[1;31mNameError\u001b[0m: name 'd' is not defined"
     ]
    }
   ],
   "source": [
    "import pandas as pd\n",
    "import numpy as np\n",
    "import seaborn as sns\n",
    "import matplotlib.pyplot as plt\n",
    "import statistics \n",
    "import os\n",
    "\n",
    "filepath = os.path.join(os.getcwd(),'CSV_Files','ninja_reports.xls')\n",
    "df = pd.read_excel('ninja_reports2.xls',sheet_name='ninja_reports')\n",
    "import pandas as pd\n",
    "import numpy as np\n",
    "import seaborn as sns\n",
    "import matplotlib.pyplot as plt\n",
    "import statistics \n",
    "import os\n",
    "filepath = os.path.join(os.getcwd(),'CSV_Files','ninja_reports.xls')\n",
    "df = pd.read_excel('ninja_reports2.xls',sheet_name='ninja_reports')\n",
    "df.head(40)\n",
    "\n",
    "city_ids = list(df.city_id.unique())\n",
    "print(city_ids)\n",
    "df.count()\n",
    "df = df.drop(columns = ['jg_sub_category','title_id'])\n",
    "#Correlation Matrix\n",
    "corr = df.corr()\n",
    "plt.figure(num=None, figsize=(7, 6), dpi=80, facecolor='w', edgecolor='k')\n",
    "corrMat = plt.matshow(corr, fignum = 1)\n",
    "plt.xticks(range(len(corr.columns)), corr.columns, rotation=90)\n",
    "plt.yticks(range(len(corr.columns)), corr.columns)\n",
    "plt.gca().xaxis.tick_bottom()\n",
    "plt.colorbar(corrMat)\n",
    "plt.title(f'Correlation Matrix', fontsize=15)\n",
    "plt.show()\n",
    "def isint(n):\n",
    "    try:\n",
    "        int(n)\n",
    "        return n\n",
    "    except:\n",
    "        return -1;\n",
    "ward_count = 0\n",
    "for i in df.ward_id:\n",
    "    if(i<=198):\n",
    "        ward_count+=1\n",
    "print(\"Noise: \",ward_count)\n",
    "l = list(df.ward_id.unique())\n",
    "len(l)\n",
    "\n",
    "c_count = 0\n",
    "for i in df.location:\n",
    "    if pd.isna(i):\n",
    "            c_count+=1\n",
    "print(\"Count : \",c_count)\n",
    "title = list(df.title.unique())\n",
    "print(title,len(title))\n",
    "cat = {}\n",
    "for i in df.category.unique():\n",
    "    cat[i] = 0\n",
    "for i in df.category:\n",
    "    cat[i] +=1\n",
    "print(cat)\n",
    "plt.figure(figsize = (7,7))\n",
    "plt.title(\"Categories\")\n",
    "plt.pie(cat.values(),labels = cat.keys(),autopct = '%.2f')\n",
    "chennai = [str(i) for i in df.location if 'Chennai' in str(i)]\n",
    "for i in chennai:\n",
    "    df.drop(d)\n",
    "for i in df.category:\n",
    "    cat[i] +=1\n",
    "print(cat)\n",
    "df.createdAt = pd.to_datetime(df['createdAt'])\n",
    "plt.figure(figsize=(13,7))\n",
    "plt.title(\"Complaint Dates: During what time were most complaints made?\")\n",
    "plt.xlabel('Dates')\n",
    "plt.ylabel('Count')\n",
    "plt.hist(df.createdAt,color='purple')\n",
    "dates = []\n",
    "for i in df.createdAt:\n",
    "    d = str(i).split('-')\n",
    "    if d[1] == '08':\n",
    "        dates.append(str(i))\n",
    "    elif (d[1] == '07' or d[1] == '09'):\n",
    "        d[1] = d[1].split(' ')\n",
    "        if(int(d[1][0]) >=15 and int(d[1][0]) <= 31):\n",
    "            dates.append(str(i))\n",
    "print(df.status_id.unique())\n",
    "stat = {}\n",
    "for i in df.status_id:\n",
    "    if i not in stat:\n",
    "        stat[i] = 1\n",
    "    else:\n",
    "        stat[i]+=1\n",
    "print(stat)\n",
    "plt.figure(figsize = (8,8))\n",
    "plt.pie(stat.values(),labels = stat.keys(),autopct = \"%.2f\")\n",
    "stat.keys()\n",
    "plt.bar(stat.keys(), height = stat.values())\n",
    "df1 = df[['category','status_id']]\n",
    "#print(df1)\n",
    "#for i in df1.categor\n",
    "cat = list(df.category)\n",
    "stat = list(df.status_id)\n",
    "res = {}\n",
    "for i in stat:\n",
    "    if i==3:\n",
    "        ct = cat[stat.index(i)]\n",
    "        if ct not in res:\n",
    "            res[ct] = 1\n",
    "        else:\n",
    "            res[ct]+=1\n",
    "print(res)\n",
    "plt.pie(res.values(),labels = res.keys(),autopct = '%.2f')\n"
   ]
  },
  {
   "cell_type": "code",
   "execution_count": null,
   "metadata": {},
   "outputs": [],
   "source": []
  }
 ],
 "metadata": {
  "kernelspec": {
   "display_name": "Python 3",
   "language": "python",
   "name": "python3"
  },
  "language_info": {
   "codemirror_mode": {
    "name": "ipython",
    "version": 3
   },
   "file_extension": ".py",
   "mimetype": "text/x-python",
   "name": "python",
   "nbconvert_exporter": "python",
   "pygments_lexer": "ipython3",
   "version": "3.7.3"
  }
 },
 "nbformat": 4,
 "nbformat_minor": 2
}
