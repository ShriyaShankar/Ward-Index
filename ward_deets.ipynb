{
 "cells": [
  {
   "cell_type": "code",
   "execution_count": 25,
   "metadata": {},
   "outputs": [],
   "source": [
    "import requests\n",
    "from bs4 import BeautifulSoup\n",
    "import pandas as pd\n",
    "\n",
    "url = requests.get(\"https://en.wikipedia.org/wiki/List_of_wards_in_Bangalore\").text\n",
    "soup = BeautifulSoup(url,'lxml')\n",
    "#print(soup.prettify())\n",
    "table = soup.find(\"table\",{'class':'wikitable'})\n",
    "#print(table)\n",
    "ward = table.find_all(\"td\")\n",
    "count = 0\n",
    "wno = []\n",
    "wname = []\n",
    "const = []\n",
    "\n",
    "def ls_const(w):\n",
    "    idx = w.index('title')\n",
    "    return (w[idx + 7:]).split(\"(\")[0][0:-1]\n",
    "\n",
    "for i in ward:\n",
    "    count+=1\n",
    "    w = (str(i).split('>'))[1].split('\\n')[0]\n",
    "    #print(wno)\n",
    "    c = count%5\n",
    "    if c==1:\n",
    "        wno.append(w)\n",
    "    elif c==2:\n",
    "        wname.append(w)\n",
    "    elif c==0:\n",
    "        const.append(ls_const(w))\n",
    "#print(const)\n",
    "\n",
    "data = {'Ward_No':wno, 'Ward_Name':wname, 'LS_const':const}\n",
    "df = pd.DataFrame(data, columns = ['Ward_No','Ward_Name','LS_const'])"
   ]
  },
  {
   "cell_type": "code",
   "execution_count": 28,
   "metadata": {},
   "outputs": [],
   "source": [
    "df.to_csv (r'C:/Users/Adithi Satish/PESU/WardIndex/ward_details.csv', index = False, header=True)"
   ]
  },
  {
   "cell_type": "code",
   "execution_count": null,
   "metadata": {},
   "outputs": [],
   "source": []
  }
 ],
 "metadata": {
  "kernelspec": {
   "display_name": "Python 3",
   "language": "python",
   "name": "python3"
  },
  "language_info": {
   "codemirror_mode": {
    "name": "ipython",
    "version": 3
   },
   "file_extension": ".py",
   "mimetype": "text/x-python",
   "name": "python",
   "nbconvert_exporter": "python",
   "pygments_lexer": "ipython3",
   "version": "3.7.3"
  }
 },
 "nbformat": 4,
 "nbformat_minor": 2
}
